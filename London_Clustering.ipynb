{
 "cells": [
  {
   "cell_type": "markdown",
   "metadata": {},
   "source": [
    "# Battle of Neighbourhoods"
   ]
  },
  {
   "cell_type": "markdown",
   "metadata": {},
   "source": [
    "## Introduction:\n",
    "\n",
    "London is the capital and largest city in England and the United Kingdom.\n",
    "As of 2018 London accounted for 13.4% of the UK population with an estimated 8.9 million inhabitants. The city boasts thousands of diverse resturants, entertainment venues and attractions for every individual.  For investors looking to purchase investment propertites in London it is important to understand the similarities of different locations within London and the relation that this has with house prices"
   ]
  },
  {
   "cell_type": "markdown",
   "metadata": {},
   "source": [
    "## Business Problem\n",
    "\n",
    "A property developer is interested in purchasing various properties within the south east region of London. In order to make an informed decision on the best areas to invest in property it is important to analyse the relationships between the neighbourhoods property prices.\n",
    "In this project the neighbourhoods of South East London with be segmented and clustered based most common venues using data obtained from Foursquare. This data will be compared to area property prices and analysis will be done on the correlation between clusters and property trends."
   ]
  },
  {
   "cell_type": "markdown",
   "metadata": {},
   "source": [
    "## Data Aquisition:\n",
    "\n",
    "The data for this project was derived from the following sources:\n",
    "\n",
    "List of Areas in London with Postal Codes - https://en.wikipedia.org/wiki/List_of_areas_of_London\n",
    "\n",
    "Most common venues in London by area - Foursquare API\n",
    "\n",
    "London Average House prices - https://data.london.gov.uk/dataset/uk-house-price-index"
   ]
  },
  {
   "cell_type": "code",
   "execution_count": null,
   "metadata": {},
   "outputs": [],
   "source": []
  },
  {
   "cell_type": "code",
   "execution_count": null,
   "metadata": {},
   "outputs": [],
   "source": []
  }
 ],
 "metadata": {
  "kernelspec": {
   "display_name": "Python 3",
   "language": "python",
   "name": "python3"
  },
  "language_info": {
   "codemirror_mode": {
    "name": "ipython",
    "version": 3
   },
   "file_extension": ".py",
   "mimetype": "text/x-python",
   "name": "python",
   "nbconvert_exporter": "python",
   "pygments_lexer": "ipython3",
   "version": "3.7.4"
  }
 },
 "nbformat": 4,
 "nbformat_minor": 2
}
