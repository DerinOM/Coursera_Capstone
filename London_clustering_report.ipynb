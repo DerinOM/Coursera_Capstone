{
 "cells": [
  {
   "cell_type": "markdown",
   "metadata": {},
   "source": [
    "# Battle of Neighbourhoods"
   ]
  },
  {
   "cell_type": "markdown",
   "metadata": {},
   "source": [
    "## Introduction:\n",
    "\n",
    "London is the capital and largest city in England and the United Kingdom.\n",
    "As of 2018 London accounted for 13.4% of the UK population with an estimated 8.9 million inhabitants. The city boasts thousands of diverse resturants, entertainment venues and attractions for every individual.  For investors looking to purchase investment propertites in London it is important to understand the similarities of different locations within London and the relation that this has with house prices"
   ]
  },
  {
   "cell_type": "markdown",
   "metadata": {},
   "source": [
    "## Business Problem\n",
    "\n",
    "A property developer is interested in purchasing various properties within the south east region of London. In order to make an informed decision on the best areas to invest in property it is important to analyse the relationships between the neighbourhoods property prices.\n",
    "In this project the neighbourhoods of South East London with be segmented and clustered based most common venues using data obtained from Foursquare. This data will be compared to area property prices and analysis will be done on the correlation between clusters and property trends."
   ]
  },
  {
   "cell_type": "markdown",
   "metadata": {},
   "source": [
    "## Data Aquisition:\n",
    "\n",
    "The data for this project was derived from the following sources:\n",
    "\n",
    "List of Areas in London with Postal Codes - https://en.wikipedia.org/wiki/List_of_areas_of_London\n",
    "\n",
    "Most common venues in London by area - Foursquare API\n",
    "\n",
    "London Average House prices - https://data.london.gov.uk/dataset/uk-house-price-index"
   ]
  },
  {
   "cell_type": "markdown",
   "metadata": {},
   "source": [
    "## Methodology¶\n",
    "In this project we will be identifying the similaries and differences between the Boroughs of London and analysing whether this has any correlation with the average house prices in this area.\n",
    "\n",
    "In the first step we collected the required data: location and category of every venue within our Boroughs using the Foursquare API. We also collected data on the average house prices within said boroughs (from UK gov dataset). We then ran a machine learning unsupervised analysis on the venue data to group our Boroughs into 4 categories.\n",
    "\n",
    "The second step will be the analysis of these clusters and an eploration into the relationship (if any) between the clusters and property prices"
   ]
  },
  {
   "cell_type": "markdown",
   "metadata": {},
   "source": [
    "## Analysis\n",
    "\n",
    "Lets perform some analysis on our two datasets. First we will analyse our clusters indivually. Clusters 2 & 3 hold very little data nad so we will be focusing our attention on clusters 0 & 1.\n",
    "\n",
    "Finally two dataframes to explore the relationship between Clusters (aka borough type) and property prices."
   ]
  },
  {
   "cell_type": "markdown",
   "metadata": {},
   "source": [
    "## Results and Discussion\n",
    " It appears that the properties in cluster 0 show a lower variance in property prices compared to those in cluster 1. It can also be seen that property prices in cluster 1 tend to be higher than those in cluster 0 which suggests that boroughs with more cafe's and pubs tend to have properties with a higher market value. This will be helpful for developers looking to invest in new upcoming areas as types of surrounding ammenties have a significant effect on property prices."
   ]
  },
  {
   "cell_type": "code",
   "execution_count": null,
   "metadata": {},
   "outputs": [],
   "source": []
  },
  {
   "cell_type": "markdown",
   "metadata": {},
   "source": [
    "## Conclusion\n",
    "\n",
    "Propery prices and most common borough venues have a correlation and so this should be factored into sales analysis when investing in a property."
   ]
  },
  {
   "cell_type": "code",
   "execution_count": null,
   "metadata": {},
   "outputs": [],
   "source": []
  }
 ],
 "metadata": {
  "kernelspec": {
   "display_name": "Python 3",
   "language": "python",
   "name": "python3"
  },
  "language_info": {
   "codemirror_mode": {
    "name": "ipython",
    "version": 3
   },
   "file_extension": ".py",
   "mimetype": "text/x-python",
   "name": "python",
   "nbconvert_exporter": "python",
   "pygments_lexer": "ipython3",
   "version": "3.7.4"
  }
 },
 "nbformat": 4,
 "nbformat_minor": 2
}
